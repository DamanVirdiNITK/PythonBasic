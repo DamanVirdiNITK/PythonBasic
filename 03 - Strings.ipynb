{
 "cells": [
  {
   "cell_type": "markdown",
   "metadata": {},
   "source": [
    "STRINGS"
   ]
  },
  {
   "cell_type": "markdown",
   "metadata": {},
   "source": [
    "A string is a sequence of characters.\n",
    " \n",
    "Computers do not deal with characters, they deal with numbers (binary). Even though you may see characters on your screen, internally it is stored and manipulated as a combination of 0's and 1's.\n",
    " \n",
    "This conversion of character to a number is called encoding, and the reverse process is decoding. ASCII and Unicode are some of the popular encoding used.\n",
    " \n",
    "In Python, string is a sequence of Unicode character."
   ]
  },
  {
   "cell_type": "code",
   "execution_count": 2,
   "metadata": {},
   "outputs": [
    {
     "name": "stdout",
     "output_type": "stream",
     "text": [
      "violet\n",
      "<class 'str'>\n"
     ]
    }
   ],
   "source": [
    "string1 = 'violet'\n",
    "print (string1)\n",
    "print(type(string1))"
   ]
  },
  {
   "cell_type": "code",
   "execution_count": 10,
   "metadata": {},
   "outputs": [
    {
     "name": "stdout",
     "output_type": "stream",
     "text": [
      "I am wor\n",
      "king. \n",
      "This is a \tclass\n"
     ]
    }
   ],
   "source": [
    "#Write a string variable, name of variable = pen and value stored in that = Blue\n",
    "pen = \"I am wor\\nking. \\nThis is a \\tclass\"\n",
    "print(pen)"
   ]
  },
  {
   "cell_type": "code",
   "execution_count": null,
   "metadata": {},
   "outputs": [],
   "source": [
    "s2 = \"Dem\"\n",
    "#print(s2)\n",
    "\n",
    "#s= \"This is my first\\t string.\\nThis is my second\\bstring\"\n",
    "#print(s)"
   ]
  },
  {
   "cell_type": "code",
   "execution_count": null,
   "metadata": {},
   "outputs": [],
   "source": [
    "s = \"This is\\t first line. \\tThis is second line\"\n",
    "print(s)"
   ]
  },
  {
   "cell_type": "code",
   "execution_count": null,
   "metadata": {
    "scrolled": true
   },
   "outputs": [],
   "source": [
    "#creating string\n",
    "s = \"Daman\"\n",
    "s2 = \"Virdi\"\n",
    "#print(s2)\n",
    "print(s +\" \" +s2)\n",
    "print(type(s2))\n",
    "#print(s)"
   ]
  },
  {
   "cell_type": "code",
   "execution_count": null,
   "metadata": {},
   "outputs": [],
   "source": [
    "s1 = \"Daman\"\n",
    "s2 =\"Virdi\"\n",
    "print(s1+ \"deep Kaur \"+s2)\n",
    "#print(s1+\" \"+s2)\n",
    "#print(s2)"
   ]
  },
  {
   "cell_type": "code",
   "execution_count": null,
   "metadata": {},
   "outputs": [],
   "source": [
    "\n",
    "s =\"\"\"Daman\n",
    "deep\"\"\"\n",
    "print(s+\" loves Python\")\n",
    "print(s + \" is doing Mtech\")\n",
    "print(s +\" would soon complete her post grad\")\n",
    "print(s +\" lives in Punjab\")\n",
    "print(type(s))\n",
    "\n"
   ]
  },
  {
   "cell_type": "code",
   "execution_count": null,
   "metadata": {},
   "outputs": [],
   "source": [
    "#s =\"Demo 12134\"\n",
    "#len(s)\n",
    "s = \"Daman\\tdeep\"\n",
    "print(s)\n",
    "print(len(s))\n",
    "s = \"Daman   deep\"\n",
    "print(s)\n",
    "print(len(s))\n",
    "#s[7]"
   ]
  },
  {
   "cell_type": "code",
   "execution_count": 15,
   "metadata": {},
   "outputs": [
    {
     "name": "stdout",
     "output_type": "stream",
     "text": [
      "4\n",
      "Demo\n",
      "e\n"
     ]
    }
   ],
   "source": [
    "s = \"Demo\"\n",
    "print(len(s))\n",
    "print(s)\n",
    "print(s[-3])"
   ]
  },
  {
   "cell_type": "code",
   "execution_count": 16,
   "metadata": {},
   "outputs": [
    {
     "data": {
      "text/plain": [
       "'d'"
      ]
     },
     "execution_count": 16,
     "metadata": {},
     "output_type": "execute_result"
    }
   ],
   "source": [
    "s= \"DamandeepKaur\"\n",
    "s[5]"
   ]
  },
  {
   "cell_type": "code",
   "execution_count": null,
   "metadata": {},
   "outputs": [],
   "source": [
    "#printing string\n",
    "s = \"Demo\"\n",
    "print(s)\n",
    "#print(s[5])\n",
    "print(len(s))\n",
    "\"\"\"\n",
    "D =0      -4\n",
    "e = 1     -3\n",
    "m = 2     -2\n",
    "o =3      -1\n",
    "\"\"\""
   ]
  },
  {
   "cell_type": "code",
   "execution_count": null,
   "metadata": {},
   "outputs": [],
   "source": [
    "s= \"DemoPython\""
   ]
  },
  {
   "cell_type": "code",
   "execution_count": null,
   "metadata": {},
   "outputs": [],
   "source": [
    "#print(s[2:7])\n",
    "print(s[7:2:-1])"
   ]
  },
  {
   "cell_type": "code",
   "execution_count": null,
   "metadata": {},
   "outputs": [],
   "source": [
    "s2 = 'string indexing'\n",
    "\n",
    "s2[3]"
   ]
  },
  {
   "cell_type": "code",
   "execution_count": null,
   "metadata": {},
   "outputs": [],
   "source": [
    "s =\"Makeitcount\"\n",
    "s[-9:-4]"
   ]
  },
  {
   "cell_type": "code",
   "execution_count": null,
   "metadata": {},
   "outputs": [],
   "source": [
    "s =\"Makeitcount\"\n",
    "#s[4:9]\n",
    "print(s[3:7])\n",
    "#print(s[-4:-9:-1])\n",
    "#print(s[-4:-11:-1])\n",
    "#first char = -4  i.e o\n",
    "#second char = index of first char +jump  = -4-1 = -5 i.e. c "
   ]
  },
  {
   "cell_type": "code",
   "execution_count": 19,
   "metadata": {},
   "outputs": [
    {
     "data": {
      "text/plain": [
       "'White'"
      ]
     },
     "execution_count": 19,
     "metadata": {},
     "output_type": "execute_result"
    }
   ],
   "source": [
    "s = \"Whiteboardzone\"\n",
    "s[:5]\n",
    "\n"
   ]
  },
  {
   "cell_type": "code",
   "execution_count": 20,
   "metadata": {},
   "outputs": [
    {
     "name": "stdout",
     "output_type": "stream",
     "text": [
      "nohtyP omeD\n"
     ]
    }
   ],
   "source": [
    "s = \"Demo Python\"\n",
    "\n",
    "#Rev a string\n",
    "print(s[::-1])\n"
   ]
  },
  {
   "cell_type": "code",
   "execution_count": null,
   "metadata": {},
   "outputs": [],
   "source": [
    "string [ start :end : jump]\n",
    "\n",
    "by default \n",
    "jump = 1\n",
    "start = 0\n",
    "end = -1"
   ]
  },
  {
   "cell_type": "code",
   "execution_count": null,
   "metadata": {},
   "outputs": [],
   "source": [
    "s = \"DemoPython\"\n",
    "\n",
    "#To print oPyth\n",
    "print(s[3:8])\n",
    "print(s[-7 : -2])\n",
    "print(s[-7:8])\n",
    "print(s[8:3])\n",
    "#to print \"emoPy\"\n",
    "print(s[1:6])\n",
    "print(s)\n",
    "#To print Python\n",
    "print(s[-10 : ])\n",
    "\n",
    "#Print 3 letters from start\n",
    "s =\"DemoPython\"\n",
    "print(s[ : 3])\n",
    "\n",
    "#Print 3 letters from end\n",
    "print(s[-3:])\n",
    "#print(s[-1 : -4])"
   ]
  },
  {
   "cell_type": "code",
   "execution_count": null,
   "metadata": {},
   "outputs": [],
   "source": [
    "s"
   ]
  },
  {
   "cell_type": "code",
   "execution_count": null,
   "metadata": {},
   "outputs": [],
   "source": [
    "\n",
    "print(s[-1 : -4])\n",
    "\n",
    "#jump = 1\n",
    "# start -1 \n",
    "#First value = start  ==-1\n",
    "#Second value = start +jump = -1+1 =0\n",
    "#Third Value = second value +jump = 0+1 =1"
   ]
  },
  {
   "cell_type": "code",
   "execution_count": null,
   "metadata": {},
   "outputs": [],
   "source": [
    "s = \"DemoPython\"\n",
    "print(s[9 :3 : -1])\n",
    "print(s[ -1: -7 :-1])\n",
    "\n",
    "print(s[ : : -1])"
   ]
  },
  {
   "cell_type": "markdown",
   "metadata": {},
   "source": [
    "###### s = \"DemoPythonError\"\n",
    "\n",
    "#to print eoyhn\n",
    "\n",
    "print(s[1: 10 :2])\n",
    "\n",
    "#To print mtEr\n",
    "print(s[2 : 15 :4])\n",
    "\n",
    "#m -->2\n",
    "#t -->6"
   ]
  },
  {
   "cell_type": "code",
   "execution_count": null,
   "metadata": {},
   "outputs": [],
   "source": [
    "s = \"Demo\"\n",
    "print(s [ : :-1])\n",
    "\n",
    "s = \"DemoPythonError\"\n",
    "print(s[ 4 :10 ])\n",
    "\n",
    "print(s[-6 : -12 :-1])\n",
    "print(s[ 9 :3 :-1])"
   ]
  },
  {
   "cell_type": "code",
   "execution_count": null,
   "metadata": {},
   "outputs": [],
   "source": [
    "#Indexing\n",
    "\n",
    "#To print o from\n",
    "s= \"Demo\"\n",
    "print(s[-1])\n",
    "print(s[3])\n",
    "\n",
    "#Slicing\n",
    "\n",
    "s1 =\"DemoPython\"\n",
    "\n",
    "#To print moPy\n",
    "print(s1[2 :6])\n",
    "\n",
    "#to print ePh\n",
    "print(s1[1 : 10:3])\n",
    "\n",
    "#1 , 1+3 = 4 , 4+3 =7 , 7+3 =10\n",
    "\n",
    "#To print last 4 char\n",
    "print(s1 [ -4: ])\n",
    "\n",
    "#Demo print oe\n",
    "print(s [ -1:-4 :-2])\n",
    "print(s [ -1: 0 :-2])"
   ]
  },
  {
   "cell_type": "code",
   "execution_count": null,
   "metadata": {},
   "outputs": [],
   "source": [
    "#properties of string\n",
    "s1 = \"Hello\"\n",
    "s2 = \"World\"\n",
    "s1+ \" \" + \"everyone in the \"+s2"
   ]
  },
  {
   "cell_type": "code",
   "execution_count": null,
   "metadata": {},
   "outputs": [],
   "source": []
  },
  {
   "cell_type": "code",
   "execution_count": 23,
   "metadata": {},
   "outputs": [
    {
     "name": "stdout",
     "output_type": "stream",
     "text": [
      "No Python documentation found for 'Daman Virdi'.\n",
      "Use help() to get the interactive help utility.\n",
      "Use help(str) for help on the str class.\n",
      "\n",
      "None\n",
      "DAMAN VIRDI\n",
      "daman virdi\n",
      "daman virdi\n"
     ]
    }
   ],
   "source": [
    "s1 = \"daman virdi\"\n",
    "#built in methods\n",
    "#changing case\n",
    "print(help(s1.title()))\n",
    "print(s1.upper())\n",
    "\n",
    "print(s1.lower())\n",
    "\n",
    "print(s1)"
   ]
  },
  {
   "cell_type": "code",
   "execution_count": null,
   "metadata": {},
   "outputs": [],
   "source": []
  },
  {
   "cell_type": "code",
   "execution_count": null,
   "metadata": {},
   "outputs": [],
   "source": [
    "#print formattings\n",
    "#adding whitespaces\n",
    "print(\"Daman\\nVirdi\")\n",
    "print(\"Daman\\tVirdi\")\n",
    "print(\"Daman\\n\\tVirdi\")"
   ]
  },
  {
   "cell_type": "code",
   "execution_count": null,
   "metadata": {},
   "outputs": [],
   "source": [
    "#stripping whitespaces\n",
    "s1 = '   Daman    '\n",
    "s2 =\"D\"\n",
    "print(\"s1 =\" +s1)\n",
    "print(\"s1.strip() =\" +s1.strip() +s2)\n",
    "print(\"s1.rstrip() =\" +s1.rstrip()+s2)\n",
    "print(\"s1.lstrip() =\" +s1.lstrip()+s2)\n",
    "\n",
    "print(s1)\n",
    "s1 = s1.strip()\n",
    "print(s1)"
   ]
  },
  {
   "cell_type": "code",
   "execution_count": null,
   "metadata": {},
   "outputs": [],
   "source": [
    "#you can't use apostrophe within single quotes\n",
    "message = 'One of Python\\'s strengths is its diverse community.'\n",
    "print(message)"
   ]
  },
  {
   "cell_type": "code",
   "execution_count": null,
   "metadata": {},
   "outputs": [],
   "source": [
    "#Formatting with placeholders"
   ]
  },
  {
   "cell_type": "code",
   "execution_count": null,
   "metadata": {},
   "outputs": [],
   "source": [
    "#Format conversion methods"
   ]
  },
  {
   "cell_type": "code",
   "execution_count": null,
   "metadata": {},
   "outputs": [],
   "source": [
    "#Padding and Precision of Floating Point Numbers"
   ]
  },
  {
   "cell_type": "code",
   "execution_count": null,
   "metadata": {},
   "outputs": [],
   "source": [
    "#Multiple Formatting"
   ]
  },
  {
   "cell_type": "code",
   "execution_count": null,
   "metadata": {},
   "outputs": [],
   "source": [
    "Python Crash Course by Erric MAthwes"
   ]
  },
  {
   "cell_type": "code",
   "execution_count": null,
   "metadata": {},
   "outputs": [],
   "source": []
  },
  {
   "cell_type": "code",
   "execution_count": null,
   "metadata": {},
   "outputs": [],
   "source": []
  },
  {
   "cell_type": "code",
   "execution_count": null,
   "metadata": {},
   "outputs": [],
   "source": []
  },
  {
   "cell_type": "code",
   "execution_count": null,
   "metadata": {},
   "outputs": [],
   "source": []
  },
  {
   "cell_type": "code",
   "execution_count": null,
   "metadata": {},
   "outputs": [],
   "source": []
  },
  {
   "cell_type": "code",
   "execution_count": null,
   "metadata": {},
   "outputs": [],
   "source": []
  },
  {
   "cell_type": "code",
   "execution_count": null,
   "metadata": {},
   "outputs": [],
   "source": [
    "s = \"Ayurvedic BotanicalExtract Recipe\"\n",
    "\n",
    "#q1:Print BotanicalExtract\n",
    "#q2: Print tcartxE\n",
    "#q3: Print yvi\n",
    "\n",
    "print(s[10 :26])\n",
    "\n",
    "print(s[-8 : -15 :-1])\n",
    "print(s[26 :18])\n",
    "\n",
    "print(s[1 : 8 :3])"
   ]
  },
  {
   "cell_type": "code",
   "execution_count": null,
   "metadata": {},
   "outputs": [],
   "source": []
  },
  {
   "cell_type": "code",
   "execution_count": null,
   "metadata": {},
   "outputs": [],
   "source": [
    "name = \"ada lovelace\"\n",
    "print(name.title())"
   ]
  },
  {
   "cell_type": "code",
   "execution_count": null,
   "metadata": {},
   "outputs": [],
   "source": [
    "\n",
    "\n"
   ]
  },
  {
   "cell_type": "code",
   "execution_count": null,
   "metadata": {},
   "outputs": [],
   "source": [
    "s = \"Demo\\nDemo\"\n",
    "print(s)\n",
    "print(s[-6])"
   ]
  },
  {
   "cell_type": "code",
   "execution_count": null,
   "metadata": {},
   "outputs": [],
   "source": [
    "s = \"You are super\"\n",
    "print(s[4:7])\n",
    "print(s[-9 :-6])"
   ]
  },
  {
   "cell_type": "code",
   "execution_count": null,
   "metadata": {},
   "outputs": [],
   "source": [
    "s =\"Demo\"\n",
    "#s[1] = \"u\"\n",
    "s = 'j'\n",
    "#s[2]=\"gh\""
   ]
  },
  {
   "cell_type": "code",
   "execution_count": null,
   "metadata": {},
   "outputs": [],
   "source": [
    "s =\"203045050550\"\n",
    "s[3:9:2]"
   ]
  },
  {
   "cell_type": "code",
   "execution_count": null,
   "metadata": {},
   "outputs": [],
   "source": [
    "s =\"stop share 1234\\n567\"\n",
    "s[4:10:3]"
   ]
  },
  {
   "cell_type": "code",
   "execution_count": null,
   "metadata": {},
   "outputs": [],
   "source": [
    "s[-9:-2:2]"
   ]
  },
  {
   "cell_type": "code",
   "execution_count": null,
   "metadata": {},
   "outputs": [],
   "source": [
    "i_am=[1,2,3,4,5,6,'krishna vamsi',[9,7,2,0,0,3,972003]]\n",
    "i_am\n",
    "type(i_am)\n",
    "vr=i_am[-2]\n",
    "vr.title()\n"
   ]
  },
  {
   "cell_type": "code",
   "execution_count": 3,
   "metadata": {},
   "outputs": [
    {
     "data": {
      "text/plain": [
       "'me'"
      ]
     },
     "execution_count": 3,
     "metadata": {},
     "output_type": "execute_result"
    }
   ],
   "source": [
    "s = \"Demopython\"\n",
    "s [2:0:-1]"
   ]
  },
  {
   "cell_type": "code",
   "execution_count": 5,
   "metadata": {},
   "outputs": [
    {
     "name": "stdout",
     "output_type": "stream",
     "text": [
      "0 2 aab  end\n",
      "ba\n"
     ]
    }
   ],
   "source": [
    "i = 0\n",
    "j =2\n",
    "s = 'aab'\n",
    "print(i , j, s[i:j+1] , s[j:i-1:-1], \"end\")\n",
    "print(s[2: 0:-1])"
   ]
  },
  {
   "cell_type": "code",
   "execution_count": null,
   "metadata": {},
   "outputs": [],
   "source": [
    "s[-5]"
   ]
  },
  {
   "cell_type": "code",
   "execution_count": null,
   "metadata": {},
   "outputs": [],
   "source": [
    "s[5]"
   ]
  },
  {
   "cell_type": "code",
   "execution_count": null,
   "metadata": {},
   "outputs": [],
   "source": []
  },
  {
   "cell_type": "code",
   "execution_count": null,
   "metadata": {},
   "outputs": [],
   "source": []
  },
  {
   "cell_type": "code",
   "execution_count": null,
   "metadata": {},
   "outputs": [],
   "source": []
  },
  {
   "cell_type": "code",
   "execution_count": null,
   "metadata": {},
   "outputs": [],
   "source": []
  },
  {
   "cell_type": "code",
   "execution_count": null,
   "metadata": {},
   "outputs": [],
   "source": []
  },
  {
   "cell_type": "code",
   "execution_count": null,
   "metadata": {},
   "outputs": [],
   "source": []
  },
  {
   "cell_type": "code",
   "execution_count": null,
   "metadata": {},
   "outputs": [],
   "source": []
  },
  {
   "cell_type": "code",
   "execution_count": null,
   "metadata": {},
   "outputs": [],
   "source": []
  },
  {
   "cell_type": "code",
   "execution_count": null,
   "metadata": {},
   "outputs": [],
   "source": []
  },
  {
   "cell_type": "code",
   "execution_count": null,
   "metadata": {},
   "outputs": [],
   "source": [
    "s1 = \"Daman\"\n",
    "s2 =\"Kaur\"\n",
    "\n",
    "s1 = 10\n",
    "\n",
    "print(s1,s2)\n",
    "print(s1 +s2)\n"
   ]
  },
  {
   "cell_type": "code",
   "execution_count": null,
   "metadata": {},
   "outputs": [],
   "source": [
    "\"\"\"rgdfhu\n",
    "rgbfdvtefvd\n",
    "bgrfdv\n",
    "bfdv\n",
    "efvd\n",
    "\"\"\""
   ]
  },
  {
   "cell_type": "code",
   "execution_count": null,
   "metadata": {},
   "outputs": [],
   "source": [
    "s=\"\"\"fergthy\n",
    "tnjmy,\"\"\""
   ]
  },
  {
   "cell_type": "code",
   "execution_count": null,
   "metadata": {},
   "outputs": [],
   "source": [
    "print(s)"
   ]
  },
  {
   "cell_type": "code",
   "execution_count": null,
   "metadata": {},
   "outputs": [],
   "source": []
  },
  {
   "cell_type": "code",
   "execution_count": null,
   "metadata": {},
   "outputs": [],
   "source": [
    "#immutable"
   ]
  },
  {
   "cell_type": "code",
   "execution_count": null,
   "metadata": {},
   "outputs": [],
   "source": [
    "s = \"Demo\"\n",
    "s[1] = \"p\""
   ]
  },
  {
   "cell_type": "code",
   "execution_count": null,
   "metadata": {},
   "outputs": [],
   "source": [
    "s = \"Dmana\""
   ]
  },
  {
   "cell_type": "code",
   "execution_count": null,
   "metadata": {},
   "outputs": [],
   "source": [
    "s= \"Daman\""
   ]
  },
  {
   "cell_type": "code",
   "execution_count": null,
   "metadata": {},
   "outputs": [],
   "source": [
    "s[:]"
   ]
  },
  {
   "cell_type": "code",
   "execution_count": null,
   "metadata": {},
   "outputs": [],
   "source": [
    "#Write a tupple tup 4,H,Math\n",
    "tup=[4,'H','Math']\n",
    "tup"
   ]
  },
  {
   "cell_type": "code",
   "execution_count": null,
   "metadata": {},
   "outputs": [],
   "source": [
    "tup[-2] = 'Pen'\n"
   ]
  },
  {
   "cell_type": "code",
   "execution_count": null,
   "metadata": {},
   "outputs": [],
   "source": [
    "tup"
   ]
  },
  {
   "cell_type": "code",
   "execution_count": 3,
   "metadata": {},
   "outputs": [
    {
     "data": {
      "text/plain": [
       "0.0"
      ]
     },
     "execution_count": 3,
     "metadata": {},
     "output_type": "execute_result"
    }
   ],
   "source": [
    "0.3+0.2-0.5"
   ]
  },
  {
   "cell_type": "code",
   "execution_count": 4,
   "metadata": {},
   "outputs": [
    {
     "name": "stdout",
     "output_type": "stream",
     "text": [
      "0.09999999999999998\n",
      "False\n"
     ]
    }
   ],
   "source": [
    "print(0.3 - 0.2)\n",
    "print(0.3 - 0.2 == 0.1)"
   ]
  },
  {
   "cell_type": "code",
   "execution_count": 27,
   "metadata": {},
   "outputs": [
    {
     "name": "stdout",
     "output_type": "stream",
     "text": [
      "Damandeep\n",
      "Damandeep\n",
      "Simran\n",
      "Simran\n"
     ]
    }
   ],
   "source": [
    "s= \"DamandeepKaur\"    #Damandeep\n",
    "print(s[:9])\n",
    "print(s[:-4])\n",
    "s= \"SimranKaur\"       #Simran\n",
    "print(s[:6])\n",
    "print(s[:-4])\n"
   ]
  },
  {
   "cell_type": "code",
   "execution_count": 28,
   "metadata": {},
   "outputs": [
    {
     "data": {
      "text/plain": [
       "'SimranKaur'"
      ]
     },
     "execution_count": 28,
     "metadata": {},
     "output_type": "execute_result"
    }
   ],
   "source": [
    "s "
   ]
  },
  {
   "cell_type": "code",
   "execution_count": 29,
   "metadata": {},
   "outputs": [
    {
     "data": {
      "text/plain": [
       "'r'"
      ]
     },
     "execution_count": 29,
     "metadata": {},
     "output_type": "execute_result"
    }
   ],
   "source": [
    "s[3]"
   ]
  },
  {
   "cell_type": "code",
   "execution_count": 30,
   "metadata": {},
   "outputs": [
    {
     "ename": "TypeError",
     "evalue": "'str' object does not support item assignment",
     "output_type": "error",
     "traceback": [
      "\u001b[1;31m---------------------------------------------------------------------------\u001b[0m",
      "\u001b[1;31mTypeError\u001b[0m                                 Traceback (most recent call last)",
      "\u001b[1;32m<ipython-input-30-783502d89824>\u001b[0m in \u001b[0;36m<module>\u001b[1;34m\u001b[0m\n\u001b[1;32m----> 1\u001b[1;33m \u001b[0ms\u001b[0m\u001b[1;33m[\u001b[0m\u001b[1;36m3\u001b[0m\u001b[1;33m]\u001b[0m \u001b[1;33m=\u001b[0m \u001b[1;34m\"P\"\u001b[0m\u001b[1;33m\u001b[0m\u001b[1;33m\u001b[0m\u001b[0m\n\u001b[0m",
      "\u001b[1;31mTypeError\u001b[0m: 'str' object does not support item assignment"
     ]
    }
   ],
   "source": [
    "s[3] = \"P\""
   ]
  },
  {
   "cell_type": "code",
   "execution_count": null,
   "metadata": {},
   "outputs": [],
   "source": []
  }
 ],
 "metadata": {
  "kernelspec": {
   "display_name": "Python 3",
   "language": "python",
   "name": "python3"
  },
  "language_info": {
   "codemirror_mode": {
    "name": "ipython",
    "version": 3
   },
   "file_extension": ".py",
   "mimetype": "text/x-python",
   "name": "python",
   "nbconvert_exporter": "python",
   "pygments_lexer": "ipython3",
   "version": "3.8.5"
  }
 },
 "nbformat": 4,
 "nbformat_minor": 2
}
